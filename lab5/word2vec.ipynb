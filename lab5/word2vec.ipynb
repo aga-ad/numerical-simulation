{
 "cells": [
  {
   "cell_type": "code",
   "execution_count": 19,
   "metadata": {},
   "outputs": [],
   "source": [
    "%matplotlib inline\n",
    "import numpy as np\n",
    "import matplotlib.pyplot as plt\n",
    "from logprogress import *\n",
    "import matplotlib\n",
    "matplotlib.rc('font', family='DejaVu Sans')"
   ]
  },
  {
   "cell_type": "markdown",
   "metadata": {},
   "source": [
    "# Нейронная сеть. Word2vec"
   ]
  },
  {
   "cell_type": "markdown",
   "metadata": {},
   "source": [
    "В этой работе мы рассмотрим работу нейронной сети на примере формирования \n",
    "векторного представления слов русского языка, т.е. реализуем вариант алгоритма \n",
    "[word2vec](https://ru.wikipedia.org/wiki/Word2vec).\n",
    "\n",
    "Алгоритм `word2vec` пытается сопоставить словам какого либо языка\n",
    "контекст этих слов (и обратно), где под контекстом понимаются\n",
    "близко расположенные слова.\n",
    "Контекст записывают в виде вектора, каждая координата которого соответсвует слову в языке,\n",
    "и значение `1` в координате означает присутствие слова в контексте.\n",
    "Название алгоритма подсказывает нам, что он преобразует слова в вектора.\n",
    "Между векторами можно считать расстояние, и оказывается, что близкие в смысле векторов\n",
    "слова имеют близкое значение, т.е. алгоритму удается выделить смысловую составляющую слов.\n",
    "\n",
    "Начнем понемногу реализовывать алгоритм, делая по ходу необходимые\n",
    "замечания.\n"
   ]
  },
  {
   "cell_type": "markdown",
   "metadata": {},
   "source": [
    "## Подготовка текста\n",
    "\n",
    "Начнем с чтения достоточно длинного текста на русском языке, пусть это будет [\"Анна Каренина\" Л.Н.Толстого](http://az.lib.ru/t/tolstoj_lew_nikolaewich/text_0080.shtml).\n",
    "В папке с примерами уже находится текст романа в кодировке UTF8.\n",
    "Мы разбиваем текст в список слов."
   ]
  },
  {
   "cell_type": "code",
   "execution_count": 20,
   "metadata": {},
   "outputs": [
    {
     "name": "stdout",
     "output_type": "stream",
     "text": [
      "Список слов: ['Лев', 'Николаевич', 'Толстой', '', 'Анна', 'Каренина', '', 'Мне', 'отмщение', 'и']\n",
      "Всего слов, включая концы предложений: 294903\n"
     ]
    }
   ],
   "source": [
    "import re\n",
    "import codecs\n",
    "file = codecs.open('karenina.txt', 'r', encoding='utf-8')\n",
    "source_str=file.read()\n",
    "source_words=re.findall('(\\w+)|\\n\\n+|[.?!]', source_str, re.UNICODE)\n",
    "file.close()\n",
    "print('Список слов:',source_words[:10])\n",
    "print('Всего слов, включая концы предложений:',len(source_words))"
   ]
  },
  {
   "cell_type": "markdown",
   "metadata": {},
   "source": [
    "Мы убрали всю пунктуацию, но сохранили разбиение на преложения, представив конец предложения в виде пустой строки в нашем списке.\n",
    "Составим теперь перечень всех слов в списке и посчитаем их частоты."
   ]
  },
  {
   "cell_type": "code",
   "execution_count": 21,
   "metadata": {},
   "outputs": [
    {
     "name": "stdout",
     "output_type": "stream",
     "text": [
      "Всего предложений: 23542\n",
      "Всего различных слов: 35349\n",
      "Самые часто встречающиеся слова: [('и', 11972), ('не', 6296), ('что', 5786), ('в', 5380), ('он', 4457), ('на', 3456), ('с', 3282), ('она', 2644), ('его', 2549), ('как', 2352)]\n"
     ]
    }
   ],
   "source": [
    "from collections import Counter\n",
    "all_words=Counter(source_words)\n",
    "number_of_sentences=all_words.pop('',None)\n",
    "print('Всего предложений:',number_of_sentences)\n",
    "print('Всего различных слов:',len(all_words))\n",
    "print('Самые часто встречающиеся слова:',all_words.most_common(10))"
   ]
  },
  {
   "cell_type": "markdown",
   "metadata": {},
   "source": [
    "Преобразуем теперь список слов в список предложений.\n",
    "Если первое слово в предложении встречается где-то в тексте, написанным со строчной буквы, \n",
    "то пишем его со строчной буквы."
   ]
  },
  {
   "cell_type": "code",
   "execution_count": 22,
   "metadata": {},
   "outputs": [
    {
     "name": "stdout",
     "output_type": "stream",
     "text": [
      "Начало текста: [['Лев', 'Николаевич', 'Толстой'], ['Анна', 'Каренина'], ['мне', 'отмщение', 'и', 'аз', 'воздам'], ['часть', 'ПЕРВАЯ'], ['I'], ['все', 'счастливые', 'семьи', 'похожи', 'друг', 'на', 'друга', 'каждая', 'несчастливая', 'семья', 'несчастлива', 'по', 'своему']]\n"
     ]
    }
   ],
   "source": [
    "import itertools\n",
    "sentences=[list(y) for x, y in itertools.groupby(source_words, lambda z: z == '') if not x]\n",
    "for sentence in sentences:\n",
    "    first_word_lower_case=sentence[0].lower()\n",
    "    if first_word_lower_case in all_words: sentence[0]=first_word_lower_case\n",
    "print('Начало текста:',sentences[:6])"
   ]
  },
  {
   "cell_type": "markdown",
   "metadata": {},
   "source": [
    "Пересчитаем частоты слов с учетом изменившегося регистра."
   ]
  },
  {
   "cell_type": "code",
   "execution_count": 23,
   "metadata": {},
   "outputs": [
    {
     "name": "stdout",
     "output_type": "stream",
     "text": [
      "Всего предложений: 21483\n",
      "Всего различных слов: 33532\n",
      "Самые часто встречающиеся слова: [('и', 12906), ('не', 6529), ('что', 6129), ('в', 5719), ('он', 5546), ('на', 3594), ('она', 3432), ('с', 3358), ('я', 3189), ('как', 2678)]\n"
     ]
    }
   ],
   "source": [
    "all_words=Counter([word for sentence in sentences for word in sentence])\n",
    "number_of_sentences=len(sentences)\n",
    "print('Всего предложений:',number_of_sentences)\n",
    "print('Всего различных слов:',len(all_words))\n",
    "print('Самые часто встречающиеся слова:',all_words.most_common(10))"
   ]
  },
  {
   "cell_type": "markdown",
   "metadata": {},
   "source": [
    "Уберем слова, которые встречаются слишком редко, так как про них мы слишком мало будем знать, чтобы делать выводы."
   ]
  },
  {
   "cell_type": "code",
   "execution_count": 24,
   "metadata": {},
   "outputs": [
    {
     "name": "stdout",
     "output_type": "stream",
     "text": [
      "Число встречающихся минимум 50 раз слов: 560\n"
     ]
    }
   ],
   "source": [
    "least_count=50\n",
    "max_count=10000\n",
    "common_words={k: v for k, v in all_words.items() if v>=least_count and v<=max_count}\n",
    "print('Число встречающихся минимум',least_count,\"раз слов:\",len(common_words))"
   ]
  },
  {
   "cell_type": "markdown",
   "metadata": {},
   "source": [
    "Сопоставим теперь словам числовые значения: самое частое слово будет иметь значение 1, следующее за ним по частоте значение 2, и т.д."
   ]
  },
  {
   "cell_type": "code",
   "execution_count": 25,
   "metadata": {},
   "outputs": [
    {
     "name": "stdout",
     "output_type": "stream",
     "text": [
      "ты\n"
     ]
    }
   ],
   "source": [
    "words_sorted_by_frequency=list(map(lambda x: x[0], sorted(common_words.items(), key=lambda x: -x[1])))\n",
    "words_codes=dict([(w,c) for c,w in enumerate(words_sorted_by_frequency)])\n",
    "# эти коллекции можно использовать для сопоставления словам чисел и обратно\n",
    "print(words_sorted_by_frequency[words_codes['ты']])"
   ]
  },
  {
   "cell_type": "markdown",
   "metadata": {},
   "source": [
    "Теперь заменим в тексте все слова ни их коды для ускорения дальнейшей работы.\n",
    "Редкие слова будут просто отброшены из текста."
   ]
  },
  {
   "cell_type": "code",
   "execution_count": 26,
   "metadata": {},
   "outputs": [
    {
     "name": "stdout",
     "output_type": "stream",
     "text": [
      "Начало закодированного текста: [[15, 347, 4, 506, 27, 391], [311, 1, 332, 29, 2, 6, 2, 67, 550, 461, 1, 0, 70, 282, 6, 84, 2, 550], [219, 11, 46, 173, 478], [15, 1, 47, 2, 67, 1, 4, 292, 103, 157, 235, 64, 44], [311, 0, 31, 245, 224, 173, 0, 16, 231], [392, 27, 8, 6, 41, 483, 320, 40, 321, 94, 88, 80, 542]]\n",
      "Число предложений: 14191\n"
     ]
    }
   ],
   "source": [
    "encoded_text=[[words_codes[word] for word in sentence if word in words_codes] for sentence in sentences]\n",
    "# убираем пустые предложения меньше заданной длины\n",
    "minimal_length=4\n",
    "encoded_text=[sentence for sentence in encoded_text if len(sentence)>=minimal_length]\n",
    "print('Начало закодированного текста:', encoded_text[:6])\n",
    "print('Число предложений:', len(encoded_text))"
   ]
  },
  {
   "cell_type": "markdown",
   "metadata": {},
   "source": [
    "Для удобства определим функцию, которая будет преобразовывать закодированный текст в читаемый."
   ]
  },
  {
   "cell_type": "code",
   "execution_count": 27,
   "metadata": {},
   "outputs": [
    {
     "name": "stdout",
     "output_type": "stream",
     "text": [
      "Раскодированное начало: [['все', 'друг', 'на', 'друга', 'по', 'своему'], ['жена', 'что', 'муж', 'был', 'в', 'с', 'в', 'их', 'доме', 'мужу', 'что', 'не', 'может', 'жить', 'с', 'ним', 'в', 'доме'], ['положение', 'это', 'уже', 'день', 'всеми'], ['все', 'что', 'нет', 'в', 'их', 'что', 'на', 'люди', 'более', 'между', 'собой', 'чем', 'они'], ['жена', 'не', 'из', 'своих', 'мужа', 'день', 'не', 'было', 'дома'], ['дети', 'по', 'как', 'с', 'ей', 'новое', 'место', 'еще', 'вчера', 'со', 'во', 'время', 'обеда']]\n"
     ]
    }
   ],
   "source": [
    "def decode(txt):\n",
    "    return words_sorted_by_frequency[txt] if isinstance(txt,(int,np.integer)) else list(map(decode, list(txt)))\n",
    "\n",
    "print('Раскодированное начало:', decode(encoded_text[:6]))"
   ]
  },
  {
   "cell_type": "markdown",
   "metadata": {},
   "source": [
    "Наконец создадим функцию, которая будет возвращать случайный контекст из текста.\n",
    "Максимальное расстояние между словами в контексте передаем в качестве параметра."
   ]
  },
  {
   "cell_type": "code",
   "execution_count": 28,
   "metadata": {},
   "outputs": [
    {
     "name": "stdout",
     "output_type": "stream",
     "text": [
      "Случайный контекст: ['ее', ['же', 'на', 'теперь', 'о', 'тех']]\n"
     ]
    }
   ],
   "source": [
    "def random_context(text, distance_between_words=5):\n",
    "    random_sentence=text[np.random.randint(0,len(text))]\n",
    "    word_index=np.random.randint(0,len(random_sentence))\n",
    "    word=random_sentence[word_index]\n",
    "    left_context=random_sentence[max(0,word_index-distance_between_words):word_index]\n",
    "    right_context=random_sentence[(word_index+1):min(len(random_sentence),word_index+distance_between_words)]\n",
    "    return word, left_context+right_context\n",
    "\n",
    "print('Случайный контекст:', decode(random_context(encoded_text)))"
   ]
  },
  {
   "cell_type": "markdown",
   "metadata": {},
   "source": [
    "## Нейронная сеть"
   ]
  },
  {
   "cell_type": "markdown",
   "metadata": {},
   "source": [
    "Для конструирования очень сложной функции $F$ большого числа аргументов, про которую ничего не известно, кроме некоторых значений, можно использовать искуственную нейронную сеть.\n",
    "Такую нейронную сеть задают как композицию нескольких простых функций, которые зависят от параметров:\n",
    "$$F(x)=f_{\\theta_1}(f_{\\theta_2}(\\ldots (f_{\\theta_N}(x))\\ldots))\n",
    "=f_{\\theta_1}\\circ f_{\\theta_2}\\circ \\cdots \\circ f_{\\theta_N}(x).$$\n",
    "Отдельную функцию $f_{\\theta_j}$ называют *слоем* нейронной сети.\n",
    "Если функций в композиции достаточно много и они достаточно разумно подобраны, то с помощью подбора параметров оказывается возможно приблизить любую функцию достаточно точно.\n",
    "В качестве меры точности приближения будем использовать функцию $R(x,y)$, которая возвращает ошибку значения $y$ функции с эталонным на данном аргументе $x$.\n",
    "Т.е. при подборе параметров $\\theta$ мы хотим, чтобы $R(x,F(x))$ достигало наименьшего значения в среднем по всем $x$:\n",
    "$$\\theta=\\mathrm{argmin}\\;E_x[R(x,F(x))].$$\n",
    "Среднее значение по данному тестовому набору аргументов можно оценить как среднее арифметическое:\n",
    "$$E_x[f(x)]=\\frac 1N\\sum_{i=1}^N f(x_i).$$\n",
    "Для нахождения же минимума ошибки можно воспользоваться градиентным спуском, т.е. имея некоторое начальное приближение для параметров, последовательно улучшать их, делая сдвиги в направлении наибольшего убывания функции, т.е. в направлении антиградиента:\n",
    "$$\\theta_k\\mapsto \\theta_k-\\alpha \\frac{\\partial}{\\partial \\theta_k}E_x[R(x,F(x))],$$\n",
    "здесь параметр $\\alpha$ выбирают достаточно большим, чтобы число шагов для нахождения минимума было не слишком большим, однако $\\alpha$ должно быть достаточно малым, чтобы ошибка действительно уменьшалась на каждой итерации.\n",
    "Если мат. ожидание оценивается через среднее арифмитическое, то гардиент превращается в сумму градиентов,\n",
    "каждый из которых может быть вычислен независимо от остальных:\n",
    "$$\\frac{\\partial}{\\partial \\theta_k}E_x[R(x,F(x))]\n",
    "=\\frac1N\\sum_{i=1}^N \\frac{\\partial}{\\partial \\theta_k} R(x_i, F(x_i)).$$\n",
    "При практическом применении градиентного спуска может оказаться, что размер выборки $N$ очень велик (миллиарды элементов и более), так что для ускорения расчетов можно брать для оценки градиента не всю выборку, а только ее часть, причем эта часть каждые несколько итераций должна меняться.\n",
    "Получившийся таким образом метод называют стохастическим градиентным спуском."
   ]
  },
  {
   "cell_type": "markdown",
   "metadata": {},
   "source": [
    "Перейдем к вычислению градиента. \n",
    "Обратите внимание, что $\\theta_k$ может быть вектором параметров $\\theta_k=(\\theta_{k,1},\\ldots,\\theta_{k,N_k})$, \n",
    "а не одним числом, поэтому обозначение $\\frac{\\partial}{\\partial\\theta_k}$ обозначает также не одно число, а вектор из производных $(\\frac{\\partial}{\\partial\\theta_{k,1}},\\ldots,\\frac{\\partial}{\\partial\\theta_{k,N_k}})$.\n",
    "\n",
    "Градиент ошибки по цепному правилу: \n",
    "$$\\frac{\\partial}{\\partial\\theta}R(x,F(x))\n",
    "=\\sum_k \\frac{\\partial R(x,y)}{\\partial y_k}\\bigg|_{y=F(x)} \\frac{\\partial F_k(x)}{\\partial \\theta}.$$\n",
    "Таким образом, чтобы найти градиент ошибки по параметрам, нужно уметь вычислять частные производные функции ошибки по результату $y$ вычисления искомой функции и вычислить их с использованием значения функции $y=F(x)$, вычисленной на текущем наборе параметров $\\theta$.\n",
    "Также нужно уметь вычислять градиент самой функции $F$ по параметрам, и вычислить этот градиент на текущих значениях параметров $\\theta$.\n",
    "Так как функция $F$ представлена композицией, то градиент считается последовательным дифференциированием каждой из функций в композиции, так называемым методом обратного распространения (backpropagation).\n",
    "Искомую функцию представим как $F(x)=f_{\\theta_1}(F^{N-1}(x))$, где через $F^{N-1}$ мы обозначили композицию всех функций, составляющих $F$, кроме $f_{\\theta_1}$, которую мы выделели явно.\n",
    "Функция $f_{\\theta_1}$ векторнозначная, т.е. $f_{\\theta_1}(x)$ - это целый вектор с координатами $f_{\\theta_1}(x)=(f_{\\theta_1,1}(x),\\ldots,f_{\\theta_1,M_1}(x))$.\n",
    "При вычислении градиента вектора нужно заменить каждую координату вектора не градиент этой координаты,\n",
    "так что дальше мы будем дифференциировать только одну координату $F_k(x)$.\n",
    "Если мы ищем градиент по $\\theta_1$, то дифференциировать можно непосредственно по $\\theta_1$ (здесь неявно используется, что $F_{N-1}$ не зависит от параметров $\\theta_1$):\n",
    "$$\\frac{\\partial F(x)_k}{\\partial \\theta_1}=\\frac{\\partial f_{\\theta_1,k}}{\\partial\\theta_1}(F^{N-1}(x)),$$\n",
    "т.е. чтобы вычислить градиент, нам нужно знать производную $f$ по параметрам $\\theta_1$ и вычислить ее в точке $F^{N-1}(x)$.\n",
    "Если же нам нужен градиент по другим параметрам $\\theta_j$, $j\\neq 1$, то\n",
    "снова воспользуемся цепным правилом:\n",
    "$$\\frac{\\partial F_k(x)}{\\partial \\theta_j}\n",
    "=\\frac{\\partial f_{\\theta_1,k}(F^{N-1}(x))}{\\partial \\theta_j}\n",
    "=\\sum_i \\frac{\\partial f_{\\theta_1,k}(y)}{\\partial y_i}\\bigg|_{y=F^{N-1}(x)}\n",
    "\\frac{\\partial F^{N-1}_i(x)}{\\partial\\theta_j}.$$\n",
    "Теперь производную по параметрам $\\theta_i$ нужно считать не от композиции $N$ функций, а только от $N-1$ функции, т.е. мы ввели рекурсию. \n",
    "Чтобы найти градиент от всех $F$ по параметрам $\\theta_j$, мы сначала должны вычислить все аргументы функций $f_{\\theta_i}$ на текущем значении $x$ и параметров, замем последовательно найти \n",
    "$\\frac{\\partial f_{\\theta_l,k}(y)}{\\partial y_i}$ начиная с $l=1$.\n",
    "Когда $l=i$, то можно дифференциировать непосредственно $f_{\\theta_i}$, дальнейшее применение цепного правила не требуется.\n",
    "До некой степени метод обратного распространения похож на автоматическое дифференциирование: мы вычисляем значение фнукции и производной для обертывающих функций, с тем чтобы по этим значениям найти значение функции и производных для внетренних функций.\n",
    "Заметим, что функции $f_{\\theta_j}$ могут различаться не только параметрами $\\theta_j$, \n",
    "но и видом самой функции."
   ]
  },
  {
   "cell_type": "markdown",
   "metadata": {},
   "source": [
    "Мы пришли к следующему алгоритму обновления параметров $\\theta$ на $\\theta'$ для одного шага длины $\\alpha$ градентного спуска.\n",
    "\n",
    "1. Положить $\\theta_i'=\\theta_i$ для всех $i$.\n",
    "1. Выбрать один $x$ из выборки.\n",
    "1. Положить $z_{N+1}=x$.\n",
    "1. Вычислить $z_j=f_{\\theta_j}(z_{j+1})$ для $j=1\\ldots N$.\n",
    "1. Вычислить ошибку $R(x,z_1)$, использовать ее для критерия останова и проверки сходимости.\n",
    "1. Вычислить градиент $dz_1$: $dz_{1,j}=\\frac{\\partial R(x,y)}{\\partial y_j}\\bigg|_{y=z_1}$.\n",
    "1. Вычислить градиенты $dz_{j+1}$ для $j=1\\ldots N-1$:\n",
    "$$dz_{j+1,i}\n",
    "=\\sum_k\\frac{\\partial f_{\\theta_j,k}(x)}{\\partial x_i}\\bigg|_{x=z_{j+1}}dz_{j,k}\n",
    "=\\frac{\\partial f_{\\theta_j}(x)}{\\partial x_i}\\bigg|_{x=z_{j+1}}\\cdot dz_j.\n",
    "$$\n",
    "1. Найти поправки $d\\theta_j$ к параметрам:\n",
    "$$d\\theta_j=\\sum_i \\frac{\\partial f_{\\theta_j,i}(x)}{\\partial \\theta_j}\\bigg|_{x=z_{j+1}}dz_{j,i}\n",
    "=\\frac{\\partial f_{\\theta_j}(x)}{\\partial \\theta_j}\\bigg|_{x=z_{j+1}}\\cdot dz_{j}\n",
    ".$$\n",
    "1. Обновить параметры: $\\theta_j'\\mapsto \\theta_j'-\\alpha d\\theta_j$.\n",
    "1. Повторить начиная 3-го пункта для следующего $x$ из выборки, пока выборка не исчерпается.\n",
    "1. Перейти к использованию обновленных параметров $\\theta_j\\gets\\theta_j'$."
   ]
  },
  {
   "cell_type": "markdown",
   "metadata": {},
   "source": [
    "Одной из популярных функций потерь $R$ является квадратичная ошибка:\n",
    "$$R_{sq}(x,y)=\\|D(x)-y\\|^2,$$\n",
    "где $D(x)$ - желаемое значение функции $F$, которого мы пытаемся достичь путем тренировки сети.\n",
    "Градиент квадратичной ошибки легко вычисляется:\n",
    "$$\\frac{\\partial R_{sq}(x,y)}{\\partial y_k}=D_k(x)-y_k.$$\n",
    "\n",
    "Если же $F$ возвращает вероятностные распределения, т.е. $F_k(x)\\geq 0$, $\\sum_k F_k(x)=1$,\n",
    "то в качестве функции потерь часто рассматривается **[Перекрестная энтропия](https://ru.wikipedia.org/wiki/%D0%9F%D0%B5%D1%80%D0%B5%D0%BA%D1%80%D1%91%D1%81%D1%82%D0%BD%D0%B0%D1%8F_%D1%8D%D0%BD%D1%82%D1%80%D0%BE%D0%BF%D0%B8%D1%8F)**:\n",
    "$$R(x,y)=-\\sum_k p_k(x)\\ln y_k,$$\n",
    "где $p_k(x)$ - желаемая вероятность k-го исхода, если на входе сети $x$.\n",
    "Часто однако точное значение желаемой вероятности неизвестно, так вместо вероятностей тренировочные данные содержат выборку значений случайной величины. \n",
    "Пусть аргументу $x$ случайная величиная сопоставила $k_0$, тогда в тренировочные данные войдет вектор $t_k(x)$,\n",
    "такой что $t_{k_0}(x)=1$ и $t_k(x)=0$ для всех $k_0\\neq0$.\n",
    "Тогда функцию потерь можно выбрать в виде:\n",
    "$$R_{cr}(x,y)=-\\sum_k t_k(x)\\ln y_k=-\\ln y_{k_0}.$$\n",
    "Среднее значения $R_{cr}$ совпадает с перекрестной энтропией $p(x)$ и $F(x)$.\n",
    "Градиент перекрестной энтропии легко найти:\n",
    "$$\\frac{\\partial R_{cr}(x,y)}{\\partial y_k}=-t_k(x)/y_k.$$"
   ]
  },
  {
   "cell_type": "code",
   "execution_count": 29,
   "metadata": {},
   "outputs": [],
   "source": [
    "# Фнукции потерь возвращают пару: значение функции, градиент\n",
    "def loss_function_sq(Dx,y):\n",
    "    delta=Dx-y\n",
    "    return np.dot(delta,delta), delta\n",
    "\n",
    "def loss_function_cr(tx,y):\n",
    "    return -np.sum(tx*np.log(y)), -tx/y"
   ]
  },
  {
   "cell_type": "markdown",
   "metadata": {},
   "source": [
    "Рассмотрим теперь функции $f_{\\theta}$, которые задают операцию на одном слое.\n",
    "Простейшая функция, которую можно взять в качестве слоя - это умножение на матрицу,\n",
    "т.е. $f_{\\theta}(x)=\\theta x$ или в координатах:\n",
    "$$f_{\\theta,k}(x)=\\sum_j \\theta_{k,j} x_j.$$\n",
    "Размер $a\\times b$ матрицы $\\theta$ определяет длину входа $b$ и длину выхода $a$.\n",
    "Градиент этой функции тоже считается через умножению на матрицу:\n",
    "$$dx\\cdot\\frac{\\partial f_{\\theta}(x)}{\\partial x_k}\n",
    "=\\sum_j dx_j\\frac{\\partial f_{\\theta,j}(x)}{\\partial x_k}\n",
    "=\\sum_j dx_j\\theta_{j,k}=(dx\\,\\theta)_k.$$\n",
    "Аналогично считается градиент по параметрам:\n",
    "$$dx\\cdot\\frac{\\partial f_{\\theta}(x)}{\\partial \\theta_{k,j}}\n",
    "=\\sum_i dx_i\\frac{\\partial f_{\\theta,i}(x)}{\\partial\\theta_{k,j}}\n",
    "=\\sum_i dx_i\\delta_{k,i}x_j=(dx_k)x_j.$$\n",
    "Отметим, что иногда полезно добавить к линейным функциям сдвиг, \n",
    "т.е. вычислять функции $\\theta_{kj}x_j+\\phi_k$,\n",
    "однако этого можно добиться без усложнения теории, добавив к $x$ одну фиктивную координату всегда равную $1$."
   ]
  },
  {
   "cell_type": "code",
   "execution_count": 38,
   "metadata": {},
   "outputs": [],
   "source": [
    "def linear_layer(theta, x, optimize=False):\n",
    "    if optimize:\n",
    "        print(theta.shape, x.shape)\n",
    "        i, = np.where(x == 1)\n",
    "        return theta[:, i[0]]\n",
    "    return np.dot(theta, x)\n",
    "\n",
    "def linear_layer_dx(dx, theta):\n",
    "    return np.dot(dx, theta)\n",
    "\n",
    "def linear_layer_dtheta(dx, x):\n",
    "    return dx[:,None]*x[None,:]"
   ]
  },
  {
   "cell_type": "markdown",
   "metadata": {},
   "source": [
    "Линейные функции просты, позволяют задавать связи между координатами, поэтому они являются основным строительным блоком нейронной сети.\n",
    "Однако ограничиться использованием только линейных функций нельзя, так как композицией линейных функций можно получить только линейные функции, а мы хотим получать любые функции.\n",
    "Поэтому к линейным функциям нужно добавить несколько нелинейных функций, называемых функциями [активации](https://en.wikipedia.org/wiki/Activation_function).\n",
    "Обычно зависимость от параметров включают в слои с линейной функцией, а нелинейные функции берут фиксированными, не зваисящими от параметров.\n",
    "Одним из популярных функций активации является логистическая функция, применяемая к каждой координате независимо от других:\n",
    "$$f_{log,k}(x)=\\frac1{1+e^{-x_k}}.$$\n",
    "Градиент логистической функции также считается покоординатно:\n",
    "$$dx\\cdot\\frac{\\partial f_{log}(x)}{\\partial x_k}\n",
    "=\\sum_j dx_j \\frac{\\partial f_{log,j}(x)}{\\partial x_k}\n",
    "=dx_k\\frac{\\partial f_{log,k}(x)}{\\partial x_k}\n",
    "=dx_k\\frac{e^{-x_k}}{(1+e^{-x_k})^2}.$$"
   ]
  },
  {
   "cell_type": "code",
   "execution_count": 39,
   "metadata": {},
   "outputs": [],
   "source": [
    "# Функции активации возращают пару: значение функции на аргументе, вспомогательные значения.\n",
    "# Вспомогательные значения используется позже для ускорения вычисления градинта.\n",
    "def logistic_function(x):\n",
    "    t=np.exp(-x)\n",
    "    return 1/(1+t), t\n",
    "\n",
    "# Функция для вычисления градиента принимают на вход результат (y,t) вычисления функции активации.\n",
    "def logistic_function_dx(dx, y, t):\n",
    "    return dx*t*y*y"
   ]
  },
  {
   "cell_type": "markdown",
   "metadata": {},
   "source": [
    "Если на выходе нейронной сети требуется получить распределение вероятности, т.е. все координаты должны быть положительны и в сумме давать единицу, то последним слоем сети удобно исползовать softmax, вычисляемый по формулам:\n",
    "$$f_{softmax,k}(x)=\\frac{e^{-x_k}}{\\sum_j e^{-x_j}}.$$\n",
    "Градиент softmax'а можно найти следующим образом:\n",
    "$$dx\\cdot \\frac{\\partial f_{softmax}(x)}{\\partial x_k}\n",
    "=\\sum_i dx_i\\frac{\\partial f_{softmax,i}(x)}{\\partial x_k}\n",
    "=\\sum_i dx_i\\left(\\frac{e^{-x_k-x_i}}{(\\sum_j e^{-x_j})^2}-\\frac{\\delta_{ki}e^{-x_k}}{\\sum_j e^{-x_j}}\\right)\n",
    "=\\frac{e^{-x_k}\\sum_i e^{-x_i}dx_i}{(\\sum_j e^{-x_j})^2}-\\frac{e^{-x_k}dx_k}{\\sum_j e^{-x_j}}\n",
    ".$$"
   ]
  },
  {
   "cell_type": "code",
   "execution_count": 40,
   "metadata": {},
   "outputs": [],
   "source": [
    "def softmax(x):\n",
    "    t=np.exp(-x)\n",
    "    return t/np.sum(t)\n",
    "\n",
    "def softmax_dx(dx,y):\n",
    "    # y=softmax(x)\n",
    "    w=y*dx\n",
    "    return y*np.sum(w)-w"
   ]
  },
  {
   "cell_type": "markdown",
   "metadata": {},
   "source": [
    "# Восстановление слов по контексту"
   ]
  },
  {
   "cell_type": "markdown",
   "metadata": {},
   "source": [
    "После долгой подготовки, мы наконец готовы перейти к задаче восстановления контекста для слова.\n",
    "Решать эту задачу поручим нейронной сети.\n",
    "Нейронная сеть не работает с дискретным обьектами, поэтому нам нужно сначала закодировать слова в виде векторов.\n",
    "Эти вектора будут иметь длину, равную числу слов, которым мы присвоили коды.\n",
    "Слову будет соответствовать вектор, содержащий одну единицу в координате, соответствующей коду слова, все остальные координаты равны нулю.\n",
    "Нейронная сеть будет возвращать вектор, координаты которого равны вероятностям встретить соответстввющее словов в контексте.\n",
    "При обучении мы будем использовать контексты, в которых все координаты для отсутствующих слов равны нулю, а остальные координаты равны и в сумме дают 1."
   ]
  },
  {
   "cell_type": "code",
   "execution_count": 41,
   "metadata": {},
   "outputs": [
    {
     "name": "stdout",
     "output_type": "stream",
     "text": [
      "Число слов в случайном контексте: 6\n"
     ]
    }
   ],
   "source": [
    "dimensionality=len(words_sorted_by_frequency)\n",
    "\n",
    "def context_to_vector(context):\n",
    "    result=np.zeros(dimensionality)\n",
    "    for word in context: result[word]+=1./len(context)\n",
    "    return result \n",
    "\n",
    "print(\"Число слов в случайном контексте:\", np.sum(0!=context_to_vector(random_context(encoded_text)[1])))\n"
   ]
  },
  {
   "cell_type": "markdown",
   "metadata": {},
   "source": [
    "Нейронную сеть рассмотрим одну из самых простейших, состоящую из двух линейных слоев и softmax:\n",
    "$$F(x)=f_{softmax}(f_B(f_A(x))).$$\n",
    "Линейные слои можно было бы обьединить в один слой, но мы этого делать не будем, так как матрица $B$ потребуется нам позже.\n",
    "Матрица $A$ имеет размер $d\\times n$, а матрица $B$ имеет размер $n\\times d$,\n",
    "где $n$ - число имеющих коды слов, $d$ - число нейронов в промежуточном слое, которое имеет смысл числа категорий, к которым можно относить слова. \n",
    "В качестве функции потерь будем использовать перекрестную энтропию $R_{cr}$.\n",
    "Используя реализованные выше функции активации и градиенты, реализуем функцию нашей нейронной сети, функцию потерь и ее градиент."
   ]
  },
  {
   "cell_type": "code",
   "execution_count": 44,
   "metadata": {},
   "outputs": [],
   "source": [
    "def neural_network(A,B,x):\n",
    "    return softmax(linear_layer(B, linear_layer(A, x, True)))[0]\n",
    "\n",
    "def loss(A, B, x, tx, return_grad=True):\n",
    "    z3=linear_layer(A, x)\n",
    "    z2=linear_layer(B, z3)\n",
    "    z1=softmax(z2)\n",
    "    R,dz1=loss_function_cr(tx, z1)\n",
    "    if not return_grad: return R\n",
    "    dz2=softmax_dx(dz1, z1)\n",
    "    dB=linear_layer_dtheta(dz2, z3)\n",
    "    dz3=linear_layer_dx(dz2, B)\n",
    "    dA=linear_layer_dtheta(dz3, x)\n",
    "    return R, dA, dB    \n",
    "\n",
    "def grad(A, B, x, tx, return_grad=True):\n",
    "    z3=linear_layer(A, x, True)\n",
    "    z2=linear_layer(B, z3)\n",
    "    z1=softmax(z2)\n",
    "    R,dz1=loss_function_cr(tx, z1)\n",
    "    if not return_grad: return R\n",
    "    dz2=softmax_dx(dz1, z1)\n",
    "    dz3=linear_layer_dx(dz2, B)\n",
    "    dx=linear_layer_dx(dz3, A)\n",
    "    return R, dx"
   ]
  },
  {
   "cell_type": "markdown",
   "metadata": {
    "collapsed": true
   },
   "source": [
    "Проверим корректность вычисления градиента, для этого воспользуемся формулой Тейлора:\n",
    "$$R[A+D_A, B+D_B]-R[A,B]-\\epsilon D_A\\cdot\\frac{\\partial R[A,B]}{\\partial A}\n",
    "-\\epsilon D_B\\cdot\\frac{\\partial R[A,B]}{\\partial B}=O(\\epsilon^2).$$\n",
    "Мы зафиксируем некоторое случайные $A$, $B$, $D_A$, $D_B$, и на малых приращениях $\\epsilon$\n",
    "вычислим левую часть, убедившись, что она убывает как $\\epsilon^2$ при уменьшении $\\epsilon\\to0$."
   ]
  },
  {
   "cell_type": "code",
   "execution_count": 45,
   "metadata": {},
   "outputs": [
    {
     "name": "stdout",
     "output_type": "stream",
     "text": [
      "Wall time: 978 µs\n"
     ]
    },
    {
     "data": {
      "image/png": "[encoded data removed]",
      "text/plain": [
       "<Figure size 432x288 with 1 Axes>"
      ]
     },
     "metadata": {
      "needs_background": "light"
     },
     "output_type": "display_data"
    }
   ],
   "source": [
    "dim=10\n",
    "x=np.random.rand(dim)\n",
    "t=np.random.rand(dim)\n",
    "A=np.random.rand(dim, dim)\n",
    "B=np.random.rand(dim, dim)\n",
    "DA=np.random.rand(dim, dim)\n",
    "DB=np.random.rand(dim, dim)*0\n",
    "%time R,dA,dB=loss(A,B,x,t)\n",
    "derror=np.sum(DA*dA)+np.sum(DB*dB)\n",
    "epsilon=np.logspace(-8,-1,10)\n",
    "error=np.empty(len(epsilon))\n",
    "for n in range(len(epsilon)):\n",
    "    error[n]=loss(A+epsilon[n]*DA,B+epsilon[n]*DB,x,t,return_grad=False)-R-derror*epsilon[n]\n",
    "plt.loglog(epsilon, np.abs(error), '-k')\n",
    "plt.loglog(epsilon, epsilon*epsilon, '--r')\n",
    "plt.xlabel(\"Argument increment\")\n",
    "plt.ylabel(\"Error\")\n",
    "plt.legend(['Experiment','Prediction'],loc=4)\n",
    "plt.show()"
   ]
  },
  {
   "cell_type": "code",
   "execution_count": null,
   "metadata": {},
   "outputs": [],
   "source": []
  },
  {
   "cell_type": "markdown",
   "metadata": {},
   "source": [
    "Теперь мы можем написать функцию, которая будет тренировать нейронную сеть,\n",
    "т.е. будет оптимизировать веса $A$ и $B$ так, чтобы ошибка $R$ минимизировалась.\n",
    "Считать ошибку $R$ сразу по всем словам и контекстам непрактично, так как займет много времени.\n",
    "Вместо этого мы будем генерировать небольшую группу `batch` тестовых наборов\n",
    "и будем делать несколько шагов градиентного спуска для этой группы,\n",
    "затем генерируем новый набор и повторяем."
   ]
  },
  {
   "cell_type": "code",
   "execution_count": 47,
   "metadata": {},
   "outputs": [],
   "source": [
    "def make_batch(text, size=300):\n",
    "    C=[]; W=[]\n",
    "    for _ in range(size):\n",
    "        word, context=random_context(text)\n",
    "        W.append(context_to_vector([word]))\n",
    "        C.append(context_to_vector(context))\n",
    "    return W, C\n",
    "\n",
    "def train_on_batch(A, B, batch, number_of_steps=3, step_size=5):\n",
    "    batch_size=len(batch[0])\n",
    "    history=[]\n",
    "    for _ in range(number_of_steps):\n",
    "        dA=np.zeros(A.shape); dB=np.zeros(B.shape); \n",
    "        error=0\n",
    "        for W,C in zip(*batch):\n",
    "            R,DA,DB=loss(A,B,W,C)\n",
    "            error+=R; dA+=DA; dB+=DB\n",
    "        A-=step_size/batch_size*dA\n",
    "        B-=step_size/batch_size*dB\n",
    "        history.append(error/batch_size)\n",
    "    return history\n",
    "\n",
    "def train_network(A, B, text, test=None, number_of_steps=1000, debug=False):\n",
    "    report_each=number_of_steps/10\n",
    "    history=[]\n",
    "    if not test is None: \n",
    "        print(\"Initial error {}\".format(test_network(A, B, test_text)))\n",
    "    try:\n",
    "        for n in log_progress(range(1,number_of_steps+1),name='Batch'):\n",
    "            error=train_on_batch(A, B, make_batch(text))\n",
    "            if debug: print(n,\":\",error[-1])\n",
    "            if not test is None and n%report_each==0: \n",
    "                print(\"Epoch {}, generalization error {}\".format(n, test_network(A, B, test_text)))\n",
    "            history.extend(error)\n",
    "    except KeyboardInterrupt:\n",
    "        pass\n",
    "    return history\n",
    "\n",
    "def test_network(A, B, text, number_of_samples=1000):\n",
    "    error=0\n",
    "    for _ in range(number_of_samples):\n",
    "        word, context=random_context(text)\n",
    "        W=context_to_vector([word])\n",
    "        C=context_to_vector(context)\n",
    "        error+=loss(A,B,W,C,return_grad=False)\n",
    "    return error/number_of_samples"
   ]
  },
  {
   "cell_type": "markdown",
   "metadata": {},
   "source": [
    "Для проверки качества обучения нейронной сети используется тестовый набор\n",
    "слов и контекстов, отличный от тренировочного набора, используемого для обучения.\n",
    "Это позволяет проверить, смогла ли сеть выявить существенные характеристики исходных данных,\n",
    "или только заучила все данные.\n",
    "Мы разделим весь наш текст на две части, на первой мы будем тренировать сеть, на второй проверять, насколько она хорошо может делать обобщения."
   ]
  },
  {
   "cell_type": "code",
   "execution_count": 48,
   "metadata": {},
   "outputs": [],
   "source": [
    "ratio=0.9\n",
    "train_text=encoded_text[:int(ratio*len(encoded_text))]\n",
    "test_text=encoded_text[int(ratio*len(encoded_text)):]\n",
    "features=50\n",
    "A=np.random.rand(features,dimensionality)\n",
    "B=np.random.rand(dimensionality,features)"
   ]
  },
  {
   "cell_type": "code",
   "execution_count": 49,
   "metadata": {
    "scrolled": false
   },
   "outputs": [
    {
     "name": "stdout",
     "output_type": "stream",
     "text": [
      "Initial error 6.735565949126008\n"
     ]
    },
    {
     "data": {
      "application/vnd.jupyter.widget-view+json": {
       "model_id": "71177c59f3c9433e9eb91a08bd2714da",
       "version_major": 2,
       "version_minor": 0
      },
      "text/plain": [
       "VBox(children=(HTML(value=''), IntProgress(value=0, max=1000)))"
      ]
     },
     "metadata": {},
     "output_type": "display_data"
    },
    {
     "name": "stdout",
     "output_type": "stream",
     "text": [
      "Epoch 100, generalization error 5.352595603816634\n",
      "Epoch 200, generalization error 5.348186205849292\n",
      "Epoch 300, generalization error 5.3313426962276464\n",
      "Epoch 400, generalization error 5.3032856867888105\n",
      "Epoch 500, generalization error 5.285963843849475\n",
      "Epoch 600, generalization error 5.28290482379328\n",
      "Epoch 700, generalization error 5.281392627590046\n",
      "Epoch 800, generalization error 5.289993414627068\n",
      "Epoch 900, generalization error 5.242774349207342\n",
      "Epoch 1000, generalization error 5.289546825063758\n",
      "Wall time: 4min 49s\n"
     ]
    },
    {
     "data": {
      "image/png": "[encoded data removed]",
      "text/plain": [
       "<Figure size 432x288 with 1 Axes>"
      ]
     },
     "metadata": {
      "needs_background": "light"
     },
     "output_type": "display_data"
    }
   ],
   "source": [
    "%time history=train_network(A, B, train_text, test=test_text)\n",
    "plt.plot(history,',')\n",
    "plt.xlabel(\"Training step\")\n",
    "plt.ylabel(\"Error\")\n",
    "plt.show()"
   ]
  },
  {
   "cell_type": "markdown",
   "metadata": {},
   "source": [
    "## Вектора слов и смысл"
   ]
  },
  {
   "cell_type": "markdown",
   "metadata": {},
   "source": [
    "Нейронная сеть была нужна нам как вспомогательное средство для нахождения векторного представления слов.\n",
    "На самом деле нас интересуют веса $B$ нейронной сети, наденные в процессе обучения.\n",
    "Строка $B[n,:]$ матрицы весов хранит связь слова с кодом $n$ с категориями слов,\n",
    "вектор $B[n,:]$ и будем называть векторным представлением слова $n$.\n",
    "Если два слова употребляются в одинаковом контексте, то следует ожидать, что их векторные представления почти совпадают.\n",
    "Определим функцию, которая будет по матрице $B$ считать расстояние до других слов, и будет возвращать список слов в порядке уменьшеная похожести."
   ]
  },
  {
   "cell_type": "code",
   "execution_count": 50,
   "metadata": {},
   "outputs": [],
   "source": [
    "def word2vec(B, n):\n",
    "    return B[n,:]\n",
    "\n",
    "def similar_words(B, vec):\n",
    "    dist=np.sum((B-vec[None,:])**2, axis=1)\n",
    "    return sorted(enumerate(dist), key=lambda x: x[1])\n",
    "\n",
    "def distance_matrix(B):\n",
    "    return np.sum((B[:,:,None]-B[:,None,:])**2, axis=0)"
   ]
  },
  {
   "cell_type": "markdown",
   "metadata": {},
   "source": [
    "Поищем похожие слова."
   ]
  },
  {
   "cell_type": "code",
   "execution_count": 51,
   "metadata": {},
   "outputs": [
    {
     "name": "stdout",
     "output_type": "stream",
     "text": [
      "['не', 'что', 'в', 'он', 'на', 'она', 'с', 'я', 'как', 'его', 'но', 'это', 'то', 'к', 'ее', 'все', 'было', 'так', 'сказал', 'а', 'же', 'ему', 'о', 'за', 'Левин', 'только', 'ты', 'по', 'у', 'был', 'когда', 'из', 'сказала', 'для', 'бы', 'теперь', 'от', 'да', 'вы', 'была', 'еще', 'ей', 'мне', 'Кити', 'они', 'него', 'уже', 'нет', 'очень', 'быть', 'меня', 'чтобы', 'Вронский', 'этого', 'себя', 'Анна', 'себе', 'были', 'ни', 'если', 'ничего', 'того', 'ну', 'том', 'чем', 'ней', 'Алексей', 'их', 'Степан', 'Аркадьич', 'может', 'Александрович', 'вот', 'есть', 'тем', 'надо', 'ли', 'опять', 'или', 'потому', 'время', 'мог', 'говорил', 'будет', 'ним', 'нее', 'мы', 'до', 'во', 'руку', 'Долли', 'эти', 'которые', 'всегда', 'со', 'этом', 'раз', 'лицо', 'сказать', 'этот', 'вас', 'дело', 'Левина', 'более', 'вдруг', 'свою', 'после', 'который', 'при', 'больше', 'своей', 'без', 'знал', 'где', 'никогда', 'потом', 'жизни', 'говорить', 'хорошо', 'знаю', 'которое', 'об', 'даже', 'пред', 'хотел', 'тебя', 'Сергей', 'один', 'нужно', 'человек', 'прежде', 'нельзя', 'тебе', 'могу', 'видел', 'глаза', 'чтоб', 'всех', 'тотчас', 'им', 'чувствовал', 'про', 'чего', 'Вронского', 'нибудь', 'одно', 'под', 'вам', 'своего', 'свое', 'могла', 'тут', 'сам', 'Иванович', 'лучше', 'думал', 'глядя', 'между', 'говорила', 'тоже', 'вместе', 'отвечал', 'будто', 'нему', 'улыбаясь', 'которая', 'улыбкой', 'свои', 'княгиня', 'слова', 'совершенно', 'хотя', 'жизнь', 'день', 'эта', 'казалось', 'Левину', 'чувство', 'стал', 'этим', 'эту', 'можно', 'уж', 'там', 'делать', 'своим', 'спросил', 'нынче', 'хотела', 'разговор', 'очевидно', 'кто', 'всего', 'несмотря', 'которого', 'которой', 'особенно', 'над', 'другой', 'Александровна', 'руки', 'голову', 'два', 'мысли', 'тому', 'Дарья', 'сделать', 'совсем', 'ах', 'минуту', 'кроме', 'которую', 'них', 'видеть', 'давно', 'одна', 'много', 'нем', 'несколько', 'положение', 'ведь', 'знала', 'человека', 'сама', 'мужа', 'этой', 'весело', 'тех', 'Алексея', 'ж', 'те', 'дома', 'должен', 'всем', 'таки', 'собой', 'мать', 'пошел', 'Анны', 'этих', 'ехать', 'зачем', 'глазами', 'сейчас', 'вопрос', 'своих', 'всю', 'Александровича', 'своем', 'выражение', 'тогда', 'лица', 'людей', 'брата', 'этому', 'такое', 'здесь', 'понимаю', 'думать', 'князь', 'самое', 'почти', 'кажется', 'свой', 'которых', 'мысль', 'отвечала', 'видела', 'думала', 'понял', 'быстро', 'стало', 'вышел', 'говорили', 'именно', 'особенности', 'тот', 'графиня', 'Бетси', 'правда', 'которым', 'отчего', 'жить', 'любви', 'дела', 'куда', 'нас', 'голос', 'душе', 'мой', 'весь', 'разве', 'люди', 'продолжал', 'котором', 'подумал', 'ясно', 'три', 'через', 'рад', 'прямо', 'слишком', 'знаешь', 'нею', 'приехал', 'вошел', 'точно', 'любовь', 'хочу', 'письмо', 'Анне', 'жена', 'почему', 'хотелось', 'детей', 'той', 'одного', 'ту', 'брат', 'должно', 'место', 'вчера', 'сколько', 'своею', 'подошел', 'понять', 'знать', 'Варенька', 'положения', 'сделал', 'оно', 'говорит', 'муж', 'невольно', 'какой', 'знает', 'буду', 'доктор', 'взгляд', 'долго', 'Степана', 'женщина', 'ужасно', 'двери', 'Константин', 'просто', 'сына', 'друг', 'Аркадьича', 'спросила', 'начал', 'какое', 'минуты', 'лице', 'думаю', 'стороны', 'часто', 'матери', 'жене', 'других', 'такой', 'жены', 'вся', 'любил', 'кого', 'сел', 'дверь', 'назад', 'первый', 'стала', 'домой', 'вперед', 'Облонский', 'чувствуя', 'иметь', 'чувствовала', 'пожалуйста', 'разумеется', 'смотрел', 'та', 'б', 'скоро', 'руками', 'сердце', 'завтра', 'вижу', 'главное', 'какие', 'остановился', 'проговорил', 'Свияжский', 'своему', 'дети', 'увидав', 'лошадь', 'стараясь', 'нам', 'люблю', 'никто', 'почувствовал', 'рада', 'пор', 'ними', 'зная', 'чувства', 'ко', 'хуже', 'любить', 'вышла', 'другое', 'знаете', 'одной', 'должна', 'дня', 'времени', 'говорю', 'Вронскому', 'Сережа', 'Весловский', 'рукой', 'жену', 'какая', 'обратился', 'своими', 'жалко', 'равно', 'Лидия', 'желая', 'прибавил', 'смотреть', 'напротив', 'имел', 'говорят', 'увидал', 'слов', 'решительно', 'встал', 'верно', 'ею', 'Ивановна', 'женщины', 'платье', 'две', 'слышал', 'Москве', 'испытывал', 'Николай', 'Анну', 'лошади', 'ребенка', 'души', 'глаз', 'вполне', 'подле', 'деньги', 'головой', 'глазах', 'каждый', 'хочешь', 'другие', 'взял', 'мужу', 'самые', 'легко', 'комнату', 'мало', 'голосом', 'право', 'хочет', 'Вронским', 'поняла', 'оттого', 'любит', 'брату', 'счастье', 'столь', 'никак', 'положении', 'всеми', 'действительно', 'улыбнулся', 'слово', 'тяжело', 'новое', 'наконец', 'смотрела', 'дурно', 'стоял', 'оба', 'свете', 'ноги', 'понимал', 'отношения', 'лицом', 'сделала', 'должны', 'шел', 'указывая', 'комнаты', 'двух', 'идти', 'поспешно', 'смерти', 'мое', 'поехал', 'будут', 'друга', 'женой', 'бог', 'неужели', 'прекрасно', 'против', 'самом', 'народ', 'чуть', 'подумала', 'бога', 'слезы', 'делал', 'показалось', 'разговора', 'каким', 'деле', 'можешь', 'подробности', 'столько', 'молодой', 'моя', 'невозможно', 'одну', 'продолжала', 'сначала', 'неприятно', 'взглянул', 'взглядом', 'лет', 'любила', 'начала', 'могли', 'дом', 'деревне', 'прибавила', 'обеда', 'могло', 'хоть', 'мной', 'имеет', 'слушал', 'первое', 'Катавасов', 'доме', 'могут', 'другого', 'обращаясь', 'свет', 'радости', 'вообще', 'обратилась', 'лошадей', 'старик']\n"
     ]
    }
   ],
   "source": [
    "print(words_sorted_by_frequency)"
   ]
  },
  {
   "cell_type": "code",
   "execution_count": 52,
   "metadata": {
    "scrolled": false
   },
   "outputs": [
    {
     "name": "stdout",
     "output_type": "stream",
     "text": [
      "Анна : Анна/0 Долли/2 Кити/3 эту/4 княгиня/4 она/5 Бетси/5 сама/5 ее/5 жена/5 \n",
      "Степан : Степан/0 Аркадьич/7 вышел/8 сел/8 весело/8 разумеется/8 человек/8 проговорил/9 место/9 иметь/9 \n",
      "давно : давно/0 теперь/4 люблю/5 когда/5 детей/5 зная/5 свое/5 знает/5 бог/5 решительно/5 \n",
      "много : много/0 та/4 новое/4 всех/4 Анны/4 вообще/4 напротив/4 нынче/4 слишком/4 людей/4 \n",
      "руки : руки/0 своего/3 вдруг/4 увидав/4 ту/4 дверь/4 глаза/4 которой/4 свое/4 опять/4 \n"
     ]
    }
   ],
   "source": [
    "def show_similar(B, vec, count=10):\n",
    "    for code,freq in similar_words(B, vec)[:count]:\n",
    "        print(\"{}/{}\".format(decode(code),int(freq)),end=\" \")\n",
    "\n",
    "words_to_compare=['Анна','Степан','давно','много','руки']\n",
    "for word in words_to_compare:\n",
    "    print(word,\":\",end=\" \")\n",
    "    show_similar(B, word2vec(B, words_codes[word]))\n",
    "    print()"
   ]
  },
  {
   "cell_type": "code",
   "execution_count": 53,
   "metadata": {},
   "outputs": [
    {
     "name": "stdout",
     "output_type": "stream",
     "text": [
      "Как 'Анна' относится к 'Степан', также к 'она' относятся следующие слова в порядке убывания уверенности:\n",
      "Степан/5 он/10 Аркадьич/11 которого/11 человек/12 иметь/12 сел/12 еще/12 вышел/13 Вронский/13 \n",
      "\n",
      "Как 'Степан' относится к 'Анна', также к 'он' относятся следующие слова в порядке убывания уверенности:\n",
      "Анна/9 она/10 Кити/10 ее/10 его/11 от/11 сама/12 ней/13 эту/13 Долли/13 \n",
      "\n"
     ]
    }
   ],
   "source": [
    "# Попробуем проанализировать отношения слов\n",
    "def show_relative(n1,n2,n3):\n",
    "    w1=words_codes[n1]; v1=word2vec(B, w1)\n",
    "    w2=words_codes[n2]; v2=word2vec(B, w2)\n",
    "    w3=words_codes[n3]; v3=word2vec(B, w3)\n",
    "    v4=v2-v1+v3\n",
    "    print(\"Как '{}' относится к '{}', также к '{}' относятся следующие слова в порядке убывания уверенности:\".format(decode(w1),decode(w2),decode(w3)))\n",
    "    show_similar(B, v4)\n",
    "    print(\"\\n\")\n",
    "\n",
    "show_relative('Анна','Степан','она')\n",
    "show_relative('Степан','Анна','он')"
   ]
  },
  {
   "cell_type": "markdown",
   "metadata": {},
   "source": [
    "Как мы видим, сеть оказалась в состоянии понять некоторые взаимосвязи между словами, по крайней мере она догадывается, кто имеет какой пол.\n",
    "Чтобы получить более точные результаты, сеть должна понимать большее число слов (десятки и сотни тысяч), тренероватбся на значительно большей выборке, и иметь более 300 категорий в скрытом слое сети.\n",
    "\n",
    "Далее мы визуализируем то, что выучила сеть.\n",
    "Следующая матрица содержит в столбцах разные слова, а каждая строка соответствует какой-то категории.\n",
    "Т.е. матрица показывает, насколько каждая категория связана с каждым словом.\n",
    "Если какие-то столбцы похожи, то они соответствуют близким по употреблению словам."
   ]
  },
  {
   "cell_type": "code",
   "execution_count": 54,
   "metadata": {},
   "outputs": [
    {
     "data": {
      "image/png": "[encoded data removed]",
      "text/plain": [
       "<Figure size 432x288 with 1 Axes>"
      ]
     },
     "metadata": {
      "needs_background": "light"
     },
     "output_type": "display_data"
    }
   ],
   "source": [
    "# Выведем все вектора слов\n",
    "plt.imshow(np.abs(B.T), interpolation='none')\n",
    "plt.show()"
   ]
  },
  {
   "cell_type": "markdown",
   "metadata": {},
   "source": [
    "Человеку тяжело найти в этом хаосе похожие столбцы, поэтому мы построим другую матрицу, которая будем содержать расстояние между каждой парой слов.\n",
    "Синий цвет соответствует близким словам, красный - дальним."
   ]
  },
  {
   "cell_type": "code",
   "execution_count": 55,
   "metadata": {},
   "outputs": [
    {
     "data": {
      "image/png": "[encoded data removed]",
      "text/plain": [
       "<Figure size 432x288 with 1 Axes>"
      ]
     },
     "metadata": {
      "needs_background": "light"
     },
     "output_type": "display_data"
    }
   ],
   "source": [
    "# Выведем матрицу расстояний между словами\n",
    "plt.imshow(distance_matrix(B), interpolation='none')\n",
    "plt.show()"
   ]
  },
  {
   "cell_type": "markdown",
   "metadata": {},
   "source": [
    "По рисунку видно, что слова образуют группы похожих слов.\n",
    "Чтобы сделать это вывод еще более явным, \n",
    "постром график, на котором каждое слово будет представлено точкой,\n",
    "а положение точки будет зависить от выраженности двух фиксированных понятий."
   ]
  },
  {
   "cell_type": "code",
   "execution_count": 56,
   "metadata": {},
   "outputs": [
    {
     "data": {
      "image/png": "[encoded data removed]",
      "text/plain": [
       "<Figure size 432x288 with 1 Axes>"
      ]
     },
     "metadata": {
      "needs_background": "light"
     },
     "output_type": "display_data"
    }
   ],
   "source": [
    "n1='он'; n2='она'\n",
    "ns=['Анна','Степан','жена','хорошо','руки']\n",
    "w1=words_codes[n1]; w2=words_codes[n2];\n",
    "v1=word2vec(B, w1); v2=word2vec(B, w2); \n",
    "p1=np.dot(B, v1); p2=np.dot(B, v2); \n",
    "fig = plt.figure()\n",
    "ax = fig.add_subplot(111)\n",
    "ax.plot(p1,p2,'.')\n",
    "for n in ns:\n",
    "    w=words_codes[n]\n",
    "    ax.plot(p1[w],p2[w],'.r')\n",
    "    ax.annotate(n, xy=(p1[w],p2[w]),color='r')\n",
    "plt.xlabel(n1); plt.ylabel(n2);\n",
    "plt.show()"
   ]
  },
  {
   "cell_type": "markdown",
   "metadata": {},
   "source": [
    "Так как у нас нет нелинейной функции активации между двумя линейными слоями, то мы имеем линейную комбинацию линейных комбинаций, что, как известно, линейная комбинация, а значит наша нейронная сеть на деле не двухслойная, а однослойная. Добавление функции активации между слоями позволит находить более сложные закономерности, а значит мы будем четче выделять признаки. "
   ]
  }
 ],
 "metadata": {
  "kernelspec": {
   "display_name": "Python 3",
   "language": "python",
   "name": "python3"
  },
  "language_info": {
   "codemirror_mode": {
    "name": "ipython",
    "version": 3
   },
   "file_extension": ".py",
   "mimetype": "text/x-python",
   "name": "python",
   "nbconvert_exporter": "python",
   "pygments_lexer": "ipython3",
   "version": "3.7.3"
  }
 },
 "nbformat": 4,
 "nbformat_minor": 2
}
